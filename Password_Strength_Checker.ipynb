{
  "nbformat": 4,
  "nbformat_minor": 0,
  "metadata": {
    "colab": {
      "provenance": [],
      "authorship_tag": "ABX9TyMpauYeyPZPx/rINAOyvsRL",
      "include_colab_link": true
    },
    "kernelspec": {
      "name": "python3",
      "display_name": "Python 3"
    },
    "language_info": {
      "name": "python"
    }
  },
  "cells": [
    {
      "cell_type": "markdown",
      "metadata": {
        "id": "view-in-github",
        "colab_type": "text"
      },
      "source": [
        "<a href=\"https://colab.research.google.com/github/MJ7869/Password-Strength-Checker/blob/main/Password_Strength_Checker.ipynb\" target=\"_parent\"><img src=\"https://colab.research.google.com/assets/colab-badge.svg\" alt=\"Open In Colab\"/></a>"
      ]
    },
    {
      "cell_type": "code",
      "execution_count": 11,
      "metadata": {
        "colab": {
          "base_uri": "https://localhost:8080/"
        },
        "id": "Yl_0YkPInMWP",
        "outputId": "97497853-585c-4031-d15d-06872d3f401a"
      },
      "outputs": [
        {
          "output_type": "stream",
          "name": "stdout",
          "text": [
            "Enter a password: myPassword@123456\n",
            "Password Strength: Medium. This password has been seen 0 times in data breaches.\n"
          ]
        }
      ],
      "source": [
        "import re\n",
        "import pwnedpasswords\n",
        "\n",
        "def check_password_strength(password):\n",
        "    # Define the regular expressions for various strength criteria\n",
        "    length_regex = r'^.{12,}$'  # At least 12 characters long\n",
        "    uppercase_regex = r'[A-Z]'\n",
        "    lowercase_regex = r'[a-z]'\n",
        "    digit_regex = r'\\d'\n",
        "    special_char_regex = r'[!@#$%^&*()]'\n",
        "\n",
        "    # Check each strength criterion\n",
        "    length = bool(re.search(length_regex, password))\n",
        "    uppercase = bool(re.search(uppercase_regex, password))\n",
        "    lowercase = bool(re.search(lowercase_regex, password))\n",
        "    digit = bool(re.search(digit_regex, password))\n",
        "    special_char = bool(re.search(special_char_regex, password))\n",
        "\n",
        "    # Calculate the password strength score\n",
        "    strength_score = (\n",
        "        length + uppercase + lowercase + digit + special_char\n",
        "    )\n",
        "\n",
        "    # Check if the password is common or compromised\n",
        "    compromised_count = pwnedpasswords.check(password)\n",
        "    is_common = compromised_count > 0\n",
        "\n",
        "    # Provide feedback on missing criteria\n",
        "    missing_criteria = []\n",
        "    if not length:\n",
        "        missing_criteria.append(\"at least 12 characters\")\n",
        "    if not uppercase:\n",
        "        missing_criteria.append(\"an uppercase letter\")\n",
        "    if not lowercase:\n",
        "        missing_criteria.append(\"a lowercase letter\")\n",
        "    if not digit:\n",
        "        missing_criteria.append(\"a digit\")\n",
        "    if not special_char:\n",
        "        missing_criteria.append(\"a special character (!@#$%^&*())\")\n",
        "\n",
        "    # Define the strength categories with compromised check\n",
        "    if is_common:\n",
        "        return f\"Very Weak. This password has been seen {compromised_count} times in data breaches. Please choose a different password.\"\n",
        "    elif strength_score >= 3:\n",
        "      if missing_criteria:\n",
        "          return f\"Medium. This password has been seen {compromised_count} times in data breaches.  Consider adding {', '.join(missing_criteria)}.\"\n",
        "      else:\n",
        "          return f\"Medium. This password has been seen {compromised_count} times in data breaches.\"\n",
        "    elif strength_score == 5:\n",
        "        return f\"Strong. This password has been seen {compromised_count} times in data breaches.\"\n",
        "    else:\n",
        "        return f\"Weak (and possibly compromised). Consider adding {', '.join(missing_criteria)}.\"\n",
        "\n",
        "if __name__ == \"__main__\":\n",
        "    password = input(\"Enter a password: \")\n",
        "    strength = check_password_strength(password)\n",
        "    print(f\"Password Strength: {strength}\")\n"
      ]
    },
    {
      "cell_type": "code",
      "source": [],
      "metadata": {
        "id": "5ypApS9snfzA"
      },
      "execution_count": null,
      "outputs": []
    }
  ]
}